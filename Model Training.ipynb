{
 "cells": [
  {
   "cell_type": "code",
   "execution_count": 1,
   "id": "355e056f",
   "metadata": {},
   "outputs": [],
   "source": [
    "import pandas as pd\n",
    "import numpy as np\n",
    "\n",
    "from sklearn.preprocessing import OneHotEncoder\n",
    "import matplotlib.pyplot as plt\n",
    "import warnings\n",
    "warnings.filterwarnings ('ignore')\n",
    "import seaborn as sns\n",
    "from tqdm import tqdm\n",
    "from sklearn.metrics import confusion_matrix\n",
    "\n",
    "from sklearn import metrics\n",
    "from sklearn.metrics import roc_curve, auc\n",
    "\n",
    "from numpy import mean\n",
    "from numpy import std\n",
    "from sklearn.ensemble import StackingClassifier\n",
    "from sklearn.model_selection import cross_val_score\n",
    "from sklearn.model_selection import RepeatedStratifiedKFold\n",
    "from sklearn.linear_model import LogisticRegression\n",
    "from sklearn.neighbors import KNeighborsClassifier\n",
    "from sklearn.tree import DecisionTreeClassifier\n",
    "from sklearn.svm import SVC\n",
    "from sklearn.naive_bayes import GaussianNB\n",
    "from matplotlib import pyplot\n",
    "from sklearn.model_selection import RandomizedSearchCV\n",
    "from sklearn.preprocessing import LabelEncoder\n",
    "from sklearn.preprocessing import OneHotEncoder\n"
   ]
  },
  {
   "cell_type": "code",
   "execution_count": 2,
   "id": "a52e8d1a",
   "metadata": {},
   "outputs": [],
   "source": [
    "#Reading the data\n",
    "df = pd.read_csv(\"consumer_complaints.csv\")\n"
   ]
  },
  {
   "cell_type": "code",
   "execution_count": 3,
   "id": "59c2ef59",
   "metadata": {},
   "outputs": [
    {
     "name": "stdout",
     "output_type": "stream",
     "text": [
      "Percentage of Rows with Null Values 0.8790248166674761\n"
     ]
    }
   ],
   "source": [
    "#Printing \n",
    "print(\"Percentage of Rows with Null Values\",(df['state'].isnull().sum()) * 100/(len(df)))"
   ]
  },
  {
   "cell_type": "code",
   "execution_count": 4,
   "id": "45558f2d",
   "metadata": {},
   "outputs": [],
   "source": [
    "# Dropping the column which have more than 60 percent null values\n",
    "df = df.drop(['consumer_complaint_narrative', 'tags','consumer_consent_provided','company_public_response'], axis = 1)"
   ]
  },
  {
   "cell_type": "code",
   "execution_count": 5,
   "id": "512a05ea",
   "metadata": {},
   "outputs": [
    {
     "name": "stdout",
     "output_type": "stream",
     "text": [
      "(119910, 14)\n"
     ]
    }
   ],
   "source": [
    "# Dropping columns who have null values in any of the three columns \n",
    "mask1 = df['sub_product'].notnull()\n",
    "mask2 = df['sub_issue'].notnull()\n",
    "mask3 = df['state'].notnull()\n",
    "mask4 = df['zipcode'].notnull()\n",
    "dfnew = df[mask1 & mask2 & mask3 & mask4]\n",
    "print(dfnew.shape)\n",
    "\n"
   ]
  },
  {
   "cell_type": "code",
   "execution_count": 6,
   "id": "8d25e5b6",
   "metadata": {},
   "outputs": [
    {
     "name": "stdout",
     "output_type": "stream",
     "text": [
      "(119910, 14)\n",
      "Index(['date_received', 'product', 'sub_product', 'issue', 'sub_issue',\n",
      "       'company', 'state', 'zipcode', 'submitted_via', 'date_sent_to_company',\n",
      "       'company_response_to_consumer', 'timely_response', 'consumer_disputed?',\n",
      "       'complaint_id'],\n",
      "      dtype='object')\n"
     ]
    }
   ],
   "source": [
    "print(dfnew.shape)\n",
    "print(dfnew.columns)"
   ]
  },
  {
   "cell_type": "code",
   "execution_count": 7,
   "id": "7ec4b789",
   "metadata": {},
   "outputs": [],
   "source": [
    "#converting each word into lowercase\n",
    "dfnew['product'] = dfnew['product'].str.lower()\n",
    "dfnew['sub_product'] = dfnew['sub_product'].str.lower()\n",
    "dfnew['issue'] = dfnew['issue'].str.lower()\n",
    "dfnew['sub_issue'] = dfnew['sub_issue'].str.lower()\n",
    "dfnew['company'] = dfnew['company'].str.lower()\n",
    "dfnew['company_response_to_consumer'] = dfnew['company_response_to_consumer'].str.lower()\n",
    "dfnew['timely_response'] = dfnew['timely_response'].str.lower()\n",
    "dfnew['submitted_via'] = dfnew['submitted_via'].str.lower()"
   ]
  },
  {
   "cell_type": "code",
   "execution_count": 8,
   "id": "1c999cc5",
   "metadata": {},
   "outputs": [],
   "source": [
    "#Adding columns year,month,day for date \n",
    "dfnew['date_received'] = pd.to_datetime(dfnew['date_received'])\n",
    "dfnew['date_sent_to_company'] = pd.to_datetime(dfnew['date_sent_to_company'])\n",
    "dfnew['date_sent_to_company_year'] = dfnew['date_sent_to_company'].dt.year\n",
    "dfnew['date_sent_to_company_month'] = dfnew['date_sent_to_company'].dt.month\n",
    "dfnew['date_sent_to_company_day'] = dfnew['date_sent_to_company'].dt.day\n"
   ]
  },
  {
   "cell_type": "code",
   "execution_count": 9,
   "id": "02e3bcb3",
   "metadata": {},
   "outputs": [],
   "source": [
    "#Adding columns year,month,day for date \n",
    "dfnew['date_received'] = pd.to_datetime(dfnew['date_received'])\n",
    "#extract the year\n",
    "dfnew['date_received_year'] = dfnew['date_received'].dt.year\n",
    "#extract the month\n",
    "dfnew['date_received_month'] = dfnew['date_received'].dt.month\n",
    "#extract the day\n",
    "dfnew['ddate_received_day'] = dfnew['date_received'].dt.day"
   ]
  },
  {
   "cell_type": "markdown",
   "id": "17b4c53b",
   "metadata": {},
   "source": [
    "<p> To process the date, we need to convert the date column into year,month,day.</p>"
   ]
  },
  {
   "cell_type": "code",
   "execution_count": 10,
   "id": "4c2d9eee",
   "metadata": {},
   "outputs": [],
   "source": [
    "# Dropping the date_received and date_sent_to_company\n",
    "dfnew = dfnew.drop(['date_received', 'date_sent_to_company'], axis = 1)"
   ]
  },
  {
   "cell_type": "code",
   "execution_count": 11,
   "id": "a3d3e8fe",
   "metadata": {},
   "outputs": [
    {
     "name": "stderr",
     "output_type": "stream",
     "text": [
      "[nltk_data] Downloading package stopwords to\n",
      "[nltk_data]     C:\\Users\\vaish\\AppData\\Roaming\\nltk_data...\n",
      "[nltk_data]   Package stopwords is already up-to-date!\n",
      "[nltk_data] Downloading package punkt to\n",
      "[nltk_data]     C:\\Users\\vaish\\AppData\\Roaming\\nltk_data...\n",
      "[nltk_data]   Package punkt is already up-to-date!\n"
     ]
    }
   ],
   "source": [
    "import nltk\n",
    "nltk.download('stopwords')\n",
    "# For tokenization\n",
    "nltk.download('punkt')\n",
    "from nltk.corpus import stopwords\n",
    "stopwords = set(stopwords.words('english'))"
   ]
  },
  {
   "cell_type": "code",
   "execution_count": 12,
   "id": "b087133f",
   "metadata": {},
   "outputs": [],
   "source": [
    "import re\n",
    "\n",
    "def decontracted(phrase):\n",
    "    # specific\n",
    "    phrase = re.sub(r\"won't\", \"will not\", phrase)\n",
    "    phrase = re.sub(r\"can\\'t\", \"can not\", phrase)\n",
    "\n",
    "    # general\n",
    "    phrase = re.sub(r\"n\\'t\", \" not\", phrase)\n",
    "    phrase = re.sub(r\"\\'re\", \" are\", phrase)\n",
    "    phrase = re.sub(r\"\\'s\", \" is\", phrase)\n",
    "    phrase = re.sub(r\"\\'d\", \" would\", phrase)\n",
    "    phrase = re.sub(r\"\\'ll\", \" will\", phrase)\n",
    "    phrase = re.sub(r\"\\'t\", \" not\", phrase)\n",
    "    phrase = re.sub(r\"\\'ve\", \" have\", phrase)\n",
    "    phrase = re.sub(r\"\\'m\", \" am\", phrase)\n",
    "    return phrase"
   ]
  },
  {
   "cell_type": "code",
   "execution_count": 13,
   "id": "c90ec165",
   "metadata": {},
   "outputs": [],
   "source": [
    "from tqdm import tqdm\n",
    "def preprocess_text(text_data):\n",
    "    preprocessed_text = []\n",
    "    # tqdm is for printing the status bar\n",
    "    for sentance in tqdm(text_data):\n",
    "        sent = decontracted(sentance)\n",
    "        sent = sent.replace('\\\\r', ' ')\n",
    "        sent = sent.replace('\\\\n', ' ')\n",
    "        sent = sent.replace('\\\\\"', ' ')\n",
    "        sent = sent.replace('-',' ')\n",
    "        sent = re.sub('[^A-Za-z0-9]+', ' ', sent)\n",
    "        # https://gist.github.com/sebleier/554280\n",
    "        sent = ' '.join(e for e in sent.split() if e.lower() not in stopwords)\n",
    "        preprocessed_text.append(sent.lower().strip())\n",
    "    return preprocessed_text"
   ]
  },
  {
   "cell_type": "code",
   "execution_count": 14,
   "id": "c898686c",
   "metadata": {},
   "outputs": [
    {
     "name": "stdout",
     "output_type": "stream",
     "text": [
      "Index(['product', 'sub_product', 'issue', 'sub_issue', 'company', 'state',\n",
      "       'zipcode', 'submitted_via', 'company_response_to_consumer',\n",
      "       'timely_response', 'consumer_disputed?', 'complaint_id',\n",
      "       'date_sent_to_company_year', 'date_sent_to_company_month',\n",
      "       'date_sent_to_company_day', 'date_received_year', 'date_received_month',\n",
      "       'ddate_received_day'],\n",
      "      dtype='object')\n"
     ]
    }
   ],
   "source": [
    "print(dfnew.columns)"
   ]
  },
  {
   "cell_type": "code",
   "execution_count": 15,
   "id": "54ce5deb",
   "metadata": {},
   "outputs": [
    {
     "name": "stderr",
     "output_type": "stream",
     "text": [
      "100%|███████████████████████████████████████████████████████████████████████| 119910/119910 [00:01<00:00, 97428.24it/s]\n"
     ]
    }
   ],
   "source": [
    "\n",
    "dfnew['sub_issue'] =  preprocess_text(dfnew['sub_issue'].values)\n"
   ]
  },
  {
   "cell_type": "code",
   "execution_count": 16,
   "id": "ec2c82d7",
   "metadata": {},
   "outputs": [
    {
     "name": "stderr",
     "output_type": "stream",
     "text": [
      "100%|██████████████████████████████████████████████████████████████████████| 119910/119910 [00:01<00:00, 106287.01it/s]\n"
     ]
    }
   ],
   "source": [
    "dfnew['company_response_to_consumer'] =  preprocess_text(dfnew['company_response_to_consumer'].values)"
   ]
  },
  {
   "cell_type": "code",
   "execution_count": 17,
   "id": "e2978805",
   "metadata": {},
   "outputs": [
    {
     "name": "stderr",
     "output_type": "stream",
     "text": [
      "100%|███████████████████████████████████████████████████████████████████████| 119910/119910 [00:01<00:00, 95709.98it/s]\n"
     ]
    }
   ],
   "source": [
    "dfnew['issue'] =  preprocess_text(dfnew['issue'].values)"
   ]
  },
  {
   "cell_type": "code",
   "execution_count": 18,
   "id": "dfb82a25",
   "metadata": {},
   "outputs": [
    {
     "name": "stderr",
     "output_type": "stream",
     "text": [
      "100%|██████████████████████████████████████████████████████████████████████| 119910/119910 [00:01<00:00, 106347.74it/s]\n"
     ]
    }
   ],
   "source": [
    "dfnew['sub_product'] =  preprocess_text(dfnew['sub_product'].values)"
   ]
  },
  {
   "cell_type": "code",
   "execution_count": 19,
   "id": "d6937b00",
   "metadata": {},
   "outputs": [
    {
     "name": "stdout",
     "output_type": "stream",
     "text": [
      "300XX    326\n",
      "770XX    315\n",
      "750XX    303\n",
      "900XX    245\n",
      "330XX    230\n",
      "        ... \n",
      "54755      1\n",
      "49799      1\n",
      "49461      1\n",
      "65077      1\n",
      "28305      1\n",
      "Name: zipcode, Length: 17331, dtype: int64\n"
     ]
    }
   ],
   "source": [
    "print(dfnew['zipcode'].value_counts())"
   ]
  },
  {
   "cell_type": "code",
   "execution_count": 20,
   "id": "4a10c638",
   "metadata": {},
   "outputs": [],
   "source": [
    "#changing the target varaible label: yes=1 and no=0\n",
    "dfnew['consumer_disputed?'] = np.where((dfnew['consumer_disputed?'] == 'Yes'), 1, 0)"
   ]
  },
  {
   "cell_type": "code",
   "execution_count": 21,
   "id": "f887de44",
   "metadata": {},
   "outputs": [
    {
     "name": "stdout",
     "output_type": "stream",
     "text": [
      "closed explanation            90569\n",
      "closed non monetary relief    18349\n",
      "closed                         5137\n",
      "closed monetary relief         2664\n",
      "untimely response              1945\n",
      "closed without relief           647\n",
      "progress                        525\n",
      "closed relief                    74\n",
      "Name: company_response_to_consumer, dtype: int64\n"
     ]
    }
   ],
   "source": [
    "print(dfnew['company_response_to_consumer'].value_counts())"
   ]
  },
  {
   "cell_type": "code",
   "execution_count": 23,
   "id": "c49d8f2c",
   "metadata": {},
   "outputs": [
    {
     "name": "stdout",
     "output_type": "stream",
     "text": [
      "Requirement already satisfied: scikit-learn==0.24 in c:\\users\\vaish\\anaconda3\\lib\\site-packages (0.24.0)\n",
      "Requirement already satisfied: joblib>=0.11 in c:\\users\\vaish\\anaconda3\\lib\\site-packages (from scikit-learn==0.24) (1.1.0)\n",
      "Requirement already satisfied: numpy>=1.13.3 in c:\\users\\vaish\\anaconda3\\lib\\site-packages (from scikit-learn==0.24) (1.21.5)\n",
      "Requirement already satisfied: threadpoolctl>=2.0.0 in c:\\users\\vaish\\anaconda3\\lib\\site-packages (from scikit-learn==0.24) (2.2.0)\n",
      "Requirement already satisfied: scipy>=0.19.1 in c:\\users\\vaish\\anaconda3\\lib\\site-packages (from scikit-learn==0.24) (1.7.3)\n"
     ]
    }
   ],
   "source": [
    "!pip install scikit-learn==0.24"
   ]
  },
  {
   "cell_type": "code",
   "execution_count": 24,
   "id": "14a970b8",
   "metadata": {},
   "outputs": [],
   "source": [
    "#train test split\n",
    "from sklearn.model_selection import train_test_split\n",
    "\n",
    "X_train, X_test = train_test_split(dfnew, test_size=0.2, stratify=dfnew['consumer_disputed?'], random_state=888)\n",
    "\n",
    "y_train = X_train['consumer_disputed?']\n",
    "\n",
    "y_test = X_test['consumer_disputed?']\n"
   ]
  },
  {
   "cell_type": "code",
   "execution_count": 25,
   "id": "b89b2f62",
   "metadata": {},
   "outputs": [
    {
     "name": "stdout",
     "output_type": "stream",
     "text": [
      "(95928, 1)\n",
      "(95928, 1)\n"
     ]
    }
   ],
   "source": [
    "#normalizing the column having numeric data\n",
    "from sklearn.preprocessing import Normalizer\n",
    "normalizer = Normalizer()\n",
    "\n",
    "normalizer.fit(X_train['date_sent_to_company_year'].values.reshape(-1, 1))\n",
    "\n",
    "X_train_normalized_company_year = normalizer.transform(X_train['date_sent_to_company_year'].values.reshape(-1,1))\n",
    "X_test_normalized_company_year = normalizer.transform(X_test['date_sent_to_company_year'].values.reshape(-1,1))\n",
    "\n",
    "normalizer.fit(X_train['date_sent_to_company_month'].values.reshape(-1, 1))\n",
    "\n",
    "X_train_normalized_company_month = normalizer.transform(X_train['date_sent_to_company_month'].values.reshape(-1,1))\n",
    "X_test_normalized_company_month = normalizer.transform(X_test['date_sent_to_company_month'].values.reshape(-1,1))\n",
    "\n",
    "normalizer.fit(X_train['date_sent_to_company_day'].values.reshape(-1, 1))\n",
    "\n",
    "X_train_normalized_company_day = normalizer.transform(X_train['date_sent_to_company_day'].values.reshape(-1,1))\n",
    "X_test_normalized_company_day = normalizer.transform(X_test['date_sent_to_company_day'].values.reshape(-1,1))\n",
    "\n",
    "normalizer.fit(X_train['date_received_year'].values.reshape(-1, 1))\n",
    "\n",
    "X_train_normalized_received_year = normalizer.transform(X_train['date_received_year'].values.reshape(-1,1))\n",
    "X_test_normalized_received_year = normalizer.transform(X_test['date_received_year'].values.reshape(-1,1))\n",
    "\n",
    "normalizer.fit(X_train['date_received_month'].values.reshape(-1, 1))\n",
    "\n",
    "X_train_normalized_received_month = normalizer.transform(X_train['date_received_month'].values.reshape(-1,1))\n",
    "X_test_normalized_received_month = normalizer.transform(X_test['date_received_month'].values.reshape(-1,1))\n",
    "\n",
    "normalizer.fit(X_train['ddate_received_day'].values.reshape(-1, 1))\n",
    "\n",
    "X_train_normalized_received_day = normalizer.transform(X_train['ddate_received_day'].values.reshape(-1,1))\n",
    "X_test_normalized_received_day = normalizer.transform(X_test['ddate_received_day'].values.reshape(-1,1))\n",
    "print(X_train_normalized_received_day.shape)\n",
    "normalizer.fit(X_train['complaint_id'].values.reshape(-1, 1))\n",
    "\n",
    "X_train_normalized_complaint_id= normalizer.transform(X_train['complaint_id'].values.reshape(-1,1))\n",
    "X_test_normalized_complaint_id = normalizer.transform(X_test['complaint_id'].values.reshape(-1,1))\n",
    "print(X_train_normalized_complaint_id.shape)\n"
   ]
  },
  {
   "cell_type": "code",
   "execution_count": 30,
   "id": "b1ea2aae",
   "metadata": {},
   "outputs": [],
   "source": [
    "\n",
    "#Response Coding\n",
    "def responsedict(feature):\n",
    "    #unique values of feature\n",
    "    unique_labels = X_train[feature].unique()\n",
    "    key = []\n",
    "    val =[]\n",
    "    for i in unique_labels:\n",
    "       \n",
    "        #Count where the target_variable is 1.\n",
    "        positive = X_train.loc[:,feature][((X_train[feature] == i) & (y_train == 1))].count()\n",
    "        #Count where the target_variable is 0.\n",
    "        negative = X_train.loc[:,feature][((X_train[feature] == i) & (y_train == 0))].count()\n",
    "        total_count = positive + negative\n",
    "        #negative probability\n",
    "        neg_prob = negative/total_count\n",
    "        #positive probability\n",
    "        pos_prob = positive/total_count\n",
    "        key.append(i)\n",
    "        val.append([neg_prob,pos_prob])\n",
    "        \n",
    "    prob_dict = dict(zip(key,val))\n",
    "    \n",
    "    return prob_dict\n",
    "\n",
    "def feature_name(feature,df):\n",
    "    feature_dict = responsedict(feature)\n",
    "    #print(feature_dict)\n",
    "    unique_label = X_train[feature].unique()\n",
    "    fea = []\n",
    "    for i,val  in df.iterrows():\n",
    "        if val[feature] in unique_label:\n",
    "            fea.append(feature_dict[val[feature]])\n",
    "        else:\n",
    "            fea.append([0.5,0.5])\n",
    "   \n",
    "    return fea\n",
    "            \n",
    "    \n",
    "    \n",
    "            "
   ]
  },
  {
   "cell_type": "code",
   "execution_count": 27,
   "id": "c261383c",
   "metadata": {},
   "outputs": [],
   "source": [
    "def hotencoder(dfeature):\n",
    "    labelencoder = LabelEncoder()\n",
    "    int_label_sub = labelencoder.fit_transform(dfeature)\n",
    "    int_labe_sub = int_label_sub.reshape(len(int_label_sub),1)\n",
    "    one_hot_encod_sub = OneHotEncoder(sparse=False)\n",
    "    one_hot_enc = one_hot_encod_sub.fit_transform(int_labe_sub)\n",
    "    return one_hot_enc\n",
    "    "
   ]
  },
  {
   "cell_type": "code",
   "execution_count": 28,
   "id": "4322ed4a",
   "metadata": {},
   "outputs": [
    {
     "name": "stdout",
     "output_type": "stream",
     "text": [
      "product (95928, 3)\n",
      "sub-product (95928, 9)\n",
      "issue (95928, 18)\n",
      "sub_issue (95928, 47)\n",
      "submitted (95928, 6)\n",
      "company response (95928, 8)\n",
      "timely response (95928, 2)\n"
     ]
    }
   ],
   "source": [
    "#one hot encoding\n",
    "one_hot_enc_product_train =  hotencoder(X_train['product'])\n",
    "one_hot_enc_product_test =  hotencoder(X_test['product'])\n",
    "print(\"product\",one_hot_enc_product_train.shape)\n",
    "one_hot_enc_sub_product_train =  hotencoder(X_train['sub_product'])\n",
    "one_hot_enc_sub_product_test =  hotencoder(X_test['sub_product'])\n",
    "print(\"sub-product\",one_hot_enc_sub_product_train.shape)\n",
    "one_hot_enc_issue_train =  hotencoder(X_train['issue'])\n",
    "one_hot_enc_issue_test =  hotencoder(X_test['issue'])\n",
    "print(\"issue\",one_hot_enc_issue_train.shape)\n",
    "one_hot_enc_sub_issue_train =  hotencoder(X_train['sub_issue'])\n",
    "one_hot_enc_sub_issue_test =  hotencoder(X_test['sub_issue'])\n",
    "print(\"sub_issue\",one_hot_enc_sub_issue_train.shape)\n",
    "\n",
    "one_hot_enc_submitted_via_train =  hotencoder(X_train['submitted_via'])\n",
    "one_hot_enc_submitted_via_test =  hotencoder(X_test['submitted_via'])\n",
    "print(\"submitted\",one_hot_enc_submitted_via_train.shape)\n",
    "one_hot_enc__response_to_consumer_train =  hotencoder(X_train['company_response_to_consumer'])\n",
    "one_hot_enc__response_to_consumer_test =  hotencoder(X_test['company_response_to_consumer'])\n",
    "print(\"company response\",one_hot_enc__response_to_consumer_train.shape)\n",
    "one_hot_enc_timely_response_train =  hotencoder(X_train['timely_response'])\n",
    "one_hot_enc_timely_response_test =  hotencoder(X_test['timely_response'])\n",
    "print(\"timely response\",one_hot_enc_timely_response_train.shape)"
   ]
  },
  {
   "cell_type": "code",
   "execution_count": 31,
   "id": "7ce7e9a0",
   "metadata": {},
   "outputs": [
    {
     "name": "stdout",
     "output_type": "stream",
     "text": [
      "(95928, 2)\n"
     ]
    }
   ],
   "source": [
    "#response coding\n",
    "train_product_responseCoding=np.array(feature_name('product',X_train))\n",
    "#print(train_product_responseCoding.shape)\n",
    "test_tproduct_responseCoding=np.array(feature_name('product',X_test))\n",
    "#print(test_tproduct_responseCoding.shape)\n",
    "\n",
    "train_sub_product_responseCoding=np.array(feature_name('sub_product',X_train))\n",
    "test_sub_product_responseCoding=np.array(feature_name('sub_product',X_test))\n",
    "#print(test_sub_product_responseCoding.shape)\n",
    "\n",
    "train_issue_responseCoding=np.array(feature_name('issue',X_train))\n",
    "test_issue_responseCoding=np.array(feature_name('issue',X_test))\n",
    "#print(test_issue_responseCoding.shape)\n",
    "\n",
    "train_sub_issue_responseCoding=np.array(feature_name('sub_issue',X_train))\n",
    "print(train_sub_issue_responseCoding.shape)\n",
    "test_sub_issue_responseCoding=np.array(feature_name('sub_issue',X_test))\n",
    "\n",
    "train_zipcode_responseCoding=np.array(feature_name('zipcode',X_train))\n",
    "test_zipcode_responseCoding=np.array(feature_name('zipcode',X_test))\n",
    "\n",
    "train_company_response_responseCoding=np.array(feature_name('company_response_to_consumer',X_train))\n",
    "test_company_response_responseCoding=np.array(feature_name('company_response_to_consumer',X_test))\n",
    "\n",
    "train_company_responseCoding=np.array(feature_name('company',X_train))\n",
    "test_company_responseCoding=np.array(feature_name('company',X_test))\n",
    "#print(test_company_responseCoding.shape)\n",
    "\n",
    "train_state_responseCoding=np.array(feature_name('state',X_train))\n",
    "test_state_responseCoding=np.array(feature_name('state',X_test))\n"
   ]
  },
  {
   "cell_type": "code",
   "execution_count": 32,
   "id": "25715bb1",
   "metadata": {},
   "outputs": [],
   "source": [
    "train_timely_response_responseCoding=np.array(feature_name('timely_response',X_train))\n",
    "test_timely_response_responseCoding=np.array(feature_name('timely_response',X_test))\n",
    "\n",
    "\n",
    "train_submitted_via_responseCoding=np.array(feature_name('submitted_via',X_train))\n",
    "test_submitted_via_responseCoding=np.array(feature_name('submitted_via',X_test))\n"
   ]
  },
  {
   "cell_type": "code",
   "execution_count": 33,
   "id": "cd7f7162",
   "metadata": {},
   "outputs": [],
   "source": [
    "OneTrainXi = np.hstack((one_hot_enc_product_train,one_hot_enc_sub_product_train,one_hot_enc_issue_train,one_hot_enc_sub_issue_train,train_state_responseCoding,train_company_responseCoding,train_zipcode_responseCoding,one_hot_enc_submitted_via_train,one_hot_enc_timely_response_train,one_hot_enc__response_to_consumer_train,X_train_normalized_complaint_id,X_train_normalized_company_year,X_train_normalized_company_month,X_train_normalized_company_day,X_train_normalized_received_year,X_train_normalized_received_month,X_train_normalized_received_day))\n",
    "OneTestXi = np.hstack((one_hot_enc_product_test,one_hot_enc_sub_product_test,one_hot_enc_issue_test,one_hot_enc_sub_issue_test,test_state_responseCoding,test_company_responseCoding,test_zipcode_responseCoding,one_hot_enc_submitted_via_test,one_hot_enc_timely_response_test,one_hot_enc__response_to_consumer_test,X_test_normalized_complaint_id,X_test_normalized_company_year,X_test_normalized_company_month,X_test_normalized_company_day,X_test_normalized_received_year,X_test_normalized_received_month,X_test_normalized_received_day))"
   ]
  },
  {
   "cell_type": "code",
   "execution_count": 34,
   "id": "b796fc8b",
   "metadata": {},
   "outputs": [
    {
     "name": "stdout",
     "output_type": "stream",
     "text": [
      "(95928, 106)\n",
      "(23982, 106)\n"
     ]
    }
   ],
   "source": [
    "print(OneTrainXi.shape)\n",
    "print(OneTestXi.shape)"
   ]
  },
  {
   "cell_type": "markdown",
   "id": "f123cf0a",
   "metadata": {},
   "source": [
    "<h3> Oversampling the data using SMOTE </h3>"
   ]
  },
  {
   "cell_type": "code",
   "execution_count": 43,
   "id": "4b2cb816",
   "metadata": {},
   "outputs": [],
   "source": [
    "from imblearn.over_sampling import SMOTE\n",
    "\n",
    "#from sklearn.utils.metaestimators import available_if\n",
    "ros =SMOTE(random_state=777)\n",
    "ros_xtrain, ros_train_y = ros.fit_resample(OneTrainXi, y_train)\n"
   ]
  },
  {
   "cell_type": "code",
   "execution_count": 44,
   "id": "97afb4b5",
   "metadata": {},
   "outputs": [
    {
     "name": "stdout",
     "output_type": "stream",
     "text": [
      "After OverSampling, counts of label '1': 0\n",
      "After OverSampling, counts of label '0': 0\n"
     ]
    }
   ],
   "source": [
    "print(\"After OverSampling, counts of label '1': {}\".format(sum(ros_train_y == 'yes')))\n",
    "print(\"After OverSampling, counts of label '0': {}\".format(sum(ros_train_y == 'no')))"
   ]
  },
  {
   "cell_type": "markdown",
   "id": "96717816",
   "metadata": {},
   "source": [
    "<h3> Logistic Regression </h3>"
   ]
  },
  {
   "cell_type": "code",
   "execution_count": 45,
   "id": "7daa6cc8",
   "metadata": {},
   "outputs": [
    {
     "name": "stdout",
     "output_type": "stream",
     "text": [
      "tuned hpyerparameters :(best parameters)  {'solver': 'lbfgs', 'penalty': 'l2', 'max_iter': 200, 'C': 10.0}\n"
     ]
    }
   ],
   "source": [
    "from sklearn.linear_model import LogisticRegression\n",
    "# dict of parameters\n",
    "grid={\"C\":np.logspace(-3,3,7),\n",
    "     \"solver\" : ['newton-cg', 'lbfgs', 'liblinear', 'sag', 'saga'],\n",
    "     \"penalty\": ['l1', 'l2'],\n",
    "     \"max_iter\": [100,200,300]}\n",
    "logreg=LogisticRegression()\n",
    "#Random search\n",
    "logreg_cv=RandomizedSearchCV(logreg,grid,cv=10)\n",
    "logreg_cv.fit(ros_xtrain, ros_train_y)\n",
    "\n",
    "print(\"tuned hpyerparameters :(best parameters) \",logreg_cv.best_params_)"
   ]
  },
  {
   "cell_type": "code",
   "execution_count": 46,
   "id": "82e81d20",
   "metadata": {},
   "outputs": [],
   "source": [
    "solver = logreg_cv.best_params_['solver']\n",
    "penalty = logreg_cv.best_params_['penalty']\n",
    "max_iter = logreg_cv.best_params_['max_iter']\n",
    "c = logreg_cv.best_params_['C']\n"
   ]
  },
  {
   "cell_type": "code",
   "execution_count": 47,
   "id": "4b3e05b4",
   "metadata": {},
   "outputs": [
    {
     "name": "stdout",
     "output_type": "stream",
     "text": [
      "Test confusion matrix\n"
     ]
    },
    {
     "data": {
      "text/plain": [
       "Text(33.0, 0.5, 'Actual label')"
      ]
     },
     "execution_count": 47,
     "metadata": {},
     "output_type": "execute_result"
    },
    {
     "data": {
      "image/png": "[encoded data removed]",
      "text/plain": [
       "<Figure size 432x288 with 2 Axes>"
      ]
     },
     "metadata": {
      "needs_background": "light"
     },
     "output_type": "display_data"
    }
   ],
   "source": [
    "#using best parameters\n",
    "import pickle\n",
    "logistic = LogisticRegression(C=c,penalty=penalty,solver=solver,max_iter=max_iter)\n",
    "logistic.fit(ros_xtrain, ros_train_y)\n",
    "             \n",
    "# save the model to disk\n",
    "filename = 'resfinalized_model.sav'\n",
    "pickle.dump(logistic, open(filename, 'wb'))\n",
    "             \n",
    "ypred = logistic.predict(OneTestXi)\n",
    "print(\"Test confusion matrix\")\n",
    "#plot confusion matrix\n",
    "cntestlog = confusion_matrix(X_test['consumer_disputed?'],ypred)\n",
    "sns.heatmap(cntestlog, annot=True,fmt=\"d\",cmap='Blues')\n",
    "\n",
    "plt.xlabel(\"Predicted label\")\n",
    "plt.ylabel(\"Actual label\")"
   ]
  },
  {
   "cell_type": "code",
   "execution_count": 48,
   "id": "91e53273",
   "metadata": {},
   "outputs": [
    {
     "name": "stdout",
     "output_type": "stream",
     "text": [
      "Accuracy log test 0.6321407722458511\n"
     ]
    }
   ],
   "source": [
    "#Accuracy of the model\n",
    "Accuracy = (cntestlog[0][0] + cntestlog[1][1]) / (cntestlog[0][0] + cntestlog[1][1] + cntestlog[0][1] + cntestlog[1][0])\n",
    "print(\"Accuracy log test\",Accuracy)"
   ]
  },
  {
   "cell_type": "code",
   "execution_count": 51,
   "id": "2b5341bd",
   "metadata": {},
   "outputs": [
    {
     "name": "stdout",
     "output_type": "stream",
     "text": [
      "Train confusion matrix\n"
     ]
    },
    {
     "data": {
      "text/plain": [
       "Text(33.0, 0.5, 'Actual label')"
      ]
     },
     "execution_count": 51,
     "metadata": {},
     "output_type": "execute_result"
    },
    {
     "data": {
      "image/png": "[encoded data removed]",
      "text/plain": [
       "<Figure size 432x288 with 2 Axes>"
      ]
     },
     "metadata": {
      "needs_background": "light"
     },
     "output_type": "display_data"
    }
   ],
   "source": [
    "ytrainpred = logistic.predict(ros_xtrain)\n",
    "print(\"Train confusion matrix\")\n",
    "#plot confusion matrix\n",
    "cnlogtrain = confusion_matrix(ros_train_y,ytrainpred)\n",
    "sns.heatmap(cnlogtrain, annot=True,fmt=\"d\",cmap='Blues')\n",
    "\n",
    "plt.xlabel(\"Predicted label\")\n",
    "plt.ylabel(\"Actual label\")"
   ]
  },
  {
   "cell_type": "code",
   "execution_count": 52,
   "id": "248a69b6",
   "metadata": {},
   "outputs": [
    {
     "name": "stdout",
     "output_type": "stream",
     "text": [
      "Accuracy log train 0.7443377458106971\n"
     ]
    }
   ],
   "source": [
    "#Accuracy of the model\n",
    "Accuracy = (cnlogtrain[0][0] + cnlogtrain[1][1]) / (cnlogtrain[0][0] + cnlogtrain[1][1] + cnlogtrain[0][1] + cnlogtrain[1][0])\n",
    "print(\"Accuracy log train\",Accuracy)"
   ]
  },
  {
   "cell_type": "code",
   "execution_count": 54,
   "id": "d5af8610",
   "metadata": {},
   "outputs": [
    {
     "data": {
      "image/png": "[encoded data removed]",
      "text/plain": [
       "<Figure size 432x288 with 1 Axes>"
      ]
     },
     "metadata": {
      "needs_background": "light"
     },
     "output_type": "display_data"
    }
   ],
   "source": [
    "#computing prob. of getting the target variable to compute the AUC score\n",
    "y_train_proba = logistic.predict_proba(ros_xtrain)[::,1]\n",
    "y_proba_pred = logistic.predict_proba(OneTestXi)[::,1]\n",
    "fpr, tpr, _ = metrics.roc_curve(y_test,  y_proba_pred)\n",
    "fprtrain,tprtrain,_ = metrics.roc_curve(ros_train_y,y_train_proba)\n",
    "#create ROC curve\n",
    "plt.plot(fpr,tpr,label=\"test AUC =\"+str(auc(fpr,tpr)))\n",
    "plt.plot(fprtrain,tprtrain,label=\"train AUC =\"+str(auc(fprtrain,tprtrain)))\n",
    "plt.ylabel('True Positive Rate')\n",
    "plt.xlabel('False Positive Rate')\n",
    "plt.legend()\n",
    "plt.show()"
   ]
  },
  {
   "cell_type": "markdown",
   "id": "5ae32a9b",
   "metadata": {},
   "source": [
    "\n",
    "<ul> Observations:\n",
    "    <li> Accuracy = 63% </li>\n",
    "    <li> AUC = 0.622 </li>\n",
    "    <li> False positive is high.</li>"
   ]
  },
  {
   "cell_type": "markdown",
   "id": "aa3745c7",
   "metadata": {},
   "source": [
    "<h3> Decision Tree Classifier </h3>"
   ]
  },
  {
   "cell_type": "code",
   "execution_count": 55,
   "id": "f27cc18a",
   "metadata": {},
   "outputs": [
    {
     "name": "stdout",
     "output_type": "stream",
     "text": [
      "{'min_samples_split': 1000, 'min_samples_leaf': 6, 'max_depth': 45, 'criterion': 'gini'}\n"
     ]
    }
   ],
   "source": [
    "\n",
    "from sklearn.tree import DecisionTreeClassifier\n",
    "from sklearn.model_selection import GridSearchCV\n",
    "model = DecisionTreeClassifier()\n",
    "# parameters dict\n",
    "params = {\n",
    "    'max_depth' : [1, 3, 10, 30,45],\n",
    "    'min_samples_split' : [5, 10, 100, 500,1000],\n",
    "    \"min_samples_leaf\": [1,3,4,5,6,7],\n",
    "    \"criterion\": [\"gini\", \"entropy\"]\n",
    "}\n",
    "#Randomsearch\n",
    "clf = RandomizedSearchCV(model,params,cv=3,scoring='roc_auc',return_train_score=True)\n",
    "clf.fit(ros_xtrain,ros_train_y)\n",
    "\n",
    "\n",
    "\n",
    "max_depth = clf.cv_results_['param_max_depth']\n",
    "#best parameter\n",
    "best_para = clf.best_params_\n",
    "print(best_para)"
   ]
  },
  {
   "cell_type": "code",
   "execution_count": 56,
   "id": "f0566cb4",
   "metadata": {},
   "outputs": [],
   "source": [
    "min_sample = clf.best_params_['min_samples_split']\n",
    "min_sample =  clf.best_params_['min_samples_split']\n",
    "max_depth = clf.best_params_['max_depth']\n",
    "criter =  clf.best_params_['criterion']"
   ]
  },
  {
   "cell_type": "code",
   "execution_count": 57,
   "id": "b5a8bbe1",
   "metadata": {},
   "outputs": [
    {
     "name": "stdout",
     "output_type": "stream",
     "text": [
      "Test confusion matrix\n"
     ]
    },
    {
     "data": {
      "text/plain": [
       "Text(33.0, 0.5, 'Actual label')"
      ]
     },
     "execution_count": 57,
     "metadata": {},
     "output_type": "execute_result"
    },
    {
     "data": {
      "image/png": "[encoded data removed]",
      "text/plain": [
       "<Figure size 432x288 with 2 Axes>"
      ]
     },
     "metadata": {
      "needs_background": "light"
     },
     "output_type": "display_data"
    }
   ],
   "source": [
    "from sklearn.naive_bayes import MultinomialNB\n",
    "nb = MultinomialNB()\n",
    "nb.fit(ros_xtrain, ros_train_y)\n",
    "ypred = nb.predict(OneTestXi)\n",
    "print(\"Test confusion matrix\")\n",
    "#plot confusion matrix\n",
    "cntestnaive = confusion_matrix(X_test['consumer_disputed?'],ypred)\n",
    "sns.heatmap(cntestnaive, annot=True,fmt=\"d\",cmap='Blues')\n",
    "\n",
    "plt.xlabel(\"Predicted label\")\n",
    "plt.ylabel(\"Actual label\")"
   ]
  },
  {
   "cell_type": "code",
   "execution_count": 58,
   "id": "5ea6c474",
   "metadata": {},
   "outputs": [
    {
     "name": "stdout",
     "output_type": "stream",
     "text": [
      "Test confusion matrix\n"
     ]
    },
    {
     "data": {
      "text/plain": [
       "Text(33.0, 0.5, 'Actual label')"
      ]
     },
     "execution_count": 58,
     "metadata": {},
     "output_type": "execute_result"
    },
    {
     "data": {
      "image/png": "[encoded data removed]",
      "text/plain": [
       "<Figure size 432x288 with 2 Axes>"
      ]
     },
     "metadata": {
      "needs_background": "light"
     },
     "output_type": "display_data"
    }
   ],
   "source": [
    "#training model with best parameters found using randomsearch\n",
    "clfnewd = DecisionTreeClassifier(min_samples_split = min_sample,min_samples_leaf=min_sample,max_depth=max_depth,criterion=criter)\n",
    "clfnewd.fit(ros_xtrain,ros_train_y)\n",
    "#Presicting values for test samples\n",
    "ydpred = clfnewd.predict(OneTestXi)\n",
    "print(\"Test confusion matrix\")\n",
    "#Plot confusion matrix\n",
    "cn2 = confusion_matrix(X_test['consumer_disputed?'],ydpred)\n",
    "sns.heatmap(cn2, annot=True,fmt=\"d\",cmap='Blues')\n",
    "\n",
    "plt.xlabel(\"Predicted label\")\n",
    "plt.ylabel(\"Actual label\")"
   ]
  },
  {
   "cell_type": "code",
   "execution_count": 59,
   "id": "37a8c95e",
   "metadata": {},
   "outputs": [
    {
     "name": "stdout",
     "output_type": "stream",
     "text": [
      "Accuracy 0.6095404886998582\n"
     ]
    }
   ],
   "source": [
    "#Accuracy of model test\n",
    "Accuracy = (cn2[0][0] + cn2[1][1]) / (cn2[0][0] + cn2[1][1] + cn2[0][1] + cn2[1][0])\n",
    "print(\"Accuracy\",Accuracy)"
   ]
  },
  {
   "cell_type": "code",
   "execution_count": 60,
   "id": "de4db166",
   "metadata": {},
   "outputs": [
    {
     "name": "stdout",
     "output_type": "stream",
     "text": [
      "Train confusion matrix\n"
     ]
    },
    {
     "data": {
      "text/plain": [
       "Text(33.0, 0.5, 'Actual label')"
      ]
     },
     "execution_count": 60,
     "metadata": {},
     "output_type": "execute_result"
    },
    {
     "data": {
      "image/png": "[encoded data removed]",
      "text/plain": [
       "<Figure size 432x288 with 2 Axes>"
      ]
     },
     "metadata": {
      "needs_background": "light"
     },
     "output_type": "display_data"
    }
   ],
   "source": [
    "ytrainpred = clfnewd.predict(ros_xtrain)\n",
    "print(\"Train confusion matrix\")\n",
    "#Plot confusion matrix for Train samples\n",
    "cn3 = confusion_matrix(ros_train_y,ytrainpred)\n",
    "sns.heatmap(cn3, annot=True,fmt=\"d\",cmap='Blues')\n",
    "\n",
    "plt.xlabel(\"Predicted label\")\n",
    "plt.ylabel(\"Actual label\")"
   ]
  },
  {
   "cell_type": "code",
   "execution_count": 61,
   "id": "c8a0573b",
   "metadata": {},
   "outputs": [
    {
     "name": "stdout",
     "output_type": "stream",
     "text": [
      "Accuracy 0.7646593720509093\n"
     ]
    }
   ],
   "source": [
    "#Accuracy of model train\n",
    "Accuracy = (cn3[0][0] + cn3[1][1]) / (cn3[0][0] + cn3[1][1] + cn3[0][1] + cn3[1][0])\n",
    "print(\"Accuracy\",Accuracy)"
   ]
  },
  {
   "cell_type": "code",
   "execution_count": 62,
   "id": "04580559",
   "metadata": {},
   "outputs": [
    {
     "data": {
      "image/png": "[encoded data removed]",
      "text/plain": [
       "<Figure size 432x288 with 1 Axes>"
      ]
     },
     "metadata": {
      "needs_background": "light"
     },
     "output_type": "display_data"
    }
   ],
   "source": [
    "#computing prob. of getting the target variable to compute the AUC score\n",
    "y_train_proba = clfnewd.predict_proba(ros_xtrain)[::,1]\n",
    "y_proba_pred = clfnewd.predict_proba(OneTestXi)[::,1]\n",
    "fpr, tpr, _ = metrics.roc_curve(y_test,  y_proba_pred)\n",
    "fprtrain,tprtrain,_ = metrics.roc_curve(ros_train_y,y_train_proba)\n",
    "#create ROC curve\n",
    "plt.plot(fpr,tpr,label=\"test AUC =\"+str(auc(fpr,tpr)))\n",
    "plt.plot(fprtrain,tprtrain,label=\"train AUC =\"+str(auc(fprtrain,tprtrain)))\n",
    "plt.ylabel('True Positive Rate')\n",
    "plt.xlabel('False Positive Rate')\n",
    "plt.legend()\n",
    "plt.show()"
   ]
  },
  {
   "cell_type": "markdown",
   "id": "fd95e752",
   "metadata": {},
   "source": [
    "<ul> Observations:\n",
    "    <li> Accuracy = 60% </li>\n",
    "    <li> AUC = 0.59 </li>"
   ]
  },
  {
   "cell_type": "markdown",
   "id": "1b291843",
   "metadata": {},
   "source": [
    "<h3> Xgboost </h3>"
   ]
  },
  {
   "cell_type": "code",
   "execution_count": 65,
   "id": "945b014e",
   "metadata": {
    "scrolled": true
   },
   "outputs": [
    {
     "data": {
      "text/plain": [
       "RandomizedSearchCV(cv=5,\n",
       "                   estimator=XGBClassifier(base_score=None, booster=None,\n",
       "                                           callbacks=None,\n",
       "                                           colsample_bylevel=None,\n",
       "                                           colsample_bynode=None,\n",
       "                                           colsample_bytree=None,\n",
       "                                           early_stopping_rounds=None,\n",
       "                                           enable_categorical=False,\n",
       "                                           eval_metric=None, gamma=None,\n",
       "                                           gpu_id=None, grow_policy=None,\n",
       "                                           importance_type=None,\n",
       "                                           interaction_constraints=None,\n",
       "                                           learning_rate=None, max_bin=None,...\n",
       "                                           min_child_weight=None, missing=nan,\n",
       "                                           monotone_constraints=None,\n",
       "                                           n_estimators=100, n_jobs=None,\n",
       "                                           num_parallel_tree=None,\n",
       "                                           predictor=None, random_state=None,\n",
       "                                           reg_alpha=None, reg_lambda=None, ...),\n",
       "                   n_iter=5,\n",
       "                   param_distributions={'colsample_bytree': [0.3, 0.4, 0.5,\n",
       "                                                             0.7],\n",
       "                                        'gamma': [0.0, 0.1, 0.2, 0.3, 0.4],\n",
       "                                        'learning_rate': [0.05, 0.1, 0.15, 0.2,\n",
       "                                                          0.25, 0.3],\n",
       "                                        'max_depth': [3, 4, 5, 6, 8, 10, 12,\n",
       "                                                      15]},\n",
       "                   scoring='roc_auc')"
      ]
     },
     "execution_count": 65,
     "metadata": {},
     "output_type": "execute_result"
    }
   ],
   "source": [
    "from xgboost import XGBClassifier\n",
    "params = {\n",
    " 'learning_rate' : [0.05,0.10,0.15,0.20,0.25,0.30],\n",
    " 'max_depth' : [ 3, 4, 5, 6, 8, 10, 12, 15],\n",
    " \n",
    " 'gamma': [ 0.0, 0.1, 0.2 , 0.3, 0.4 ],\n",
    " 'colsample_bytree' : [ 0.3, 0.4, 0.5 , 0.7 ]\n",
    "}\n",
    "xgbc = XGBClassifier()\n",
    "#Random search\n",
    "rs_model=RandomizedSearchCV(xgbc,param_distributions=params,n_iter=5,scoring='roc_auc',cv=5)\n",
    "rs_model.fit(ros_xtrain,ros_train_y)"
   ]
  },
  {
   "cell_type": "code",
   "execution_count": 66,
   "id": "bb580103",
   "metadata": {},
   "outputs": [
    {
     "name": "stdout",
     "output_type": "stream",
     "text": [
      "Best Parameters {'max_depth': 15, 'learning_rate': 0.2, 'gamma': 0.1, 'colsample_bytree': 0.7}\n"
     ]
    }
   ],
   "source": [
    "#Best parameters\n",
    "print(\"Best Parameters\",rs_model.best_params_)\n",
    "max_depth = rs_model.best_params_['max_depth']\n",
    "learning = rs_model.best_params_['learning_rate']\n",
    "gamma = rs_model.best_params_['gamma']\n",
    "colsam = rs_model.best_params_['colsample_bytree']\n"
   ]
  },
  {
   "cell_type": "code",
   "execution_count": 67,
   "id": "cfbf7885",
   "metadata": {},
   "outputs": [
    {
     "data": {
      "text/plain": [
       "XGBClassifier(base_score=0.5, booster='gbtree', callbacks=None,\n",
       "              colsample_bylevel=1, colsample_bynode=1, colsample_bytree=0.7,\n",
       "              early_stopping_rounds=None, enable_categorical=False,\n",
       "              eval_metric=None, gamma=0.1, gpu_id=-1, grow_policy='depthwise',\n",
       "              importance_type=None, interaction_constraints='',\n",
       "              learning_rate=0.2, max_bin=256, max_cat_to_onehot=4,\n",
       "              max_delta_step=0, max_depth=15, max_leaves=0, min_child_weight=1,\n",
       "              missing=nan, monotone_constraints='()', n_estimators=100,\n",
       "              n_jobs=0, num_parallel_tree=1, predictor='auto', random_state=0,\n",
       "              reg_alpha=0, reg_lambda=1, ...)"
      ]
     },
     "execution_count": 67,
     "metadata": {},
     "output_type": "execute_result"
    }
   ],
   "source": [
    "# Training model using best parameters\n",
    "xbb = XGBClassifier(max_depth=max_depth,learning_rate=learning,gamma=gamma,colsample_bytree=colsam)\n",
    "xbb.fit(ros_xtrain,ros_train_y)"
   ]
  },
  {
   "cell_type": "markdown",
   "id": "0791d976",
   "metadata": {},
   "source": []
  },
  {
   "cell_type": "code",
   "execution_count": 68,
   "id": "fc434135",
   "metadata": {},
   "outputs": [
    {
     "data": {
      "text/plain": [
       "Text(33.0, 0.5, 'Actual label')"
      ]
     },
     "execution_count": 68,
     "metadata": {},
     "output_type": "execute_result"
    },
    {
     "data": {
      "image/png": "[encoded data removed]",
      "text/plain": [
       "<Figure size 432x288 with 2 Axes>"
      ]
     },
     "metadata": {
      "needs_background": "light"
     },
     "output_type": "display_data"
    }
   ],
   "source": [
    "ypred = xbb.predict(OneTestXi)\n",
    "#plot confusion matrix for test samples\n",
    "cxgbtest= confusion_matrix(y_test,ypred)\n",
    "sns.heatmap(cxgbtest, annot=True,fmt=\"d\",cmap='Blues')\n",
    "\n",
    "plt.xlabel(\"Predicted label\")\n",
    "plt.ylabel(\"Actual label\")"
   ]
  },
  {
   "cell_type": "code",
   "execution_count": 69,
   "id": "5e5af4a7",
   "metadata": {},
   "outputs": [
    {
     "name": "stdout",
     "output_type": "stream",
     "text": [
      "Accuracy test xgb 0.7683679426236344\n"
     ]
    }
   ],
   "source": [
    "#Accuracy of the model test\n",
    "Accuracy = (cxgbtest[0][0] + cxgbtest[1][1]) / (cxgbtest[0][0] + cxgbtest[1][1] + cxgbtest[0][1] + cxgbtest[1][0])\n",
    "print(\"Accuracy test xgb\",Accuracy)"
   ]
  },
  {
   "cell_type": "markdown",
   "id": "fcbfd418",
   "metadata": {},
   "source": []
  },
  {
   "cell_type": "code",
   "execution_count": 70,
   "id": "64400d06",
   "metadata": {},
   "outputs": [
    {
     "name": "stdout",
     "output_type": "stream",
     "text": [
      "Train confusion matrix\n"
     ]
    },
    {
     "data": {
      "text/plain": [
       "Text(33.0, 0.5, 'Actual label')"
      ]
     },
     "execution_count": 70,
     "metadata": {},
     "output_type": "execute_result"
    },
    {
     "data": {
      "image/png": "[encoded data removed]",
      "text/plain": [
       "<Figure size 432x288 with 2 Axes>"
      ]
     },
     "metadata": {
      "needs_background": "light"
     },
     "output_type": "display_data"
    }
   ],
   "source": [
    "ytrainpred = xbb.predict(ros_xtrain)\n",
    "print(\"Train confusion matrix\")\n",
    "#plot confusion for train set\n",
    "cxgbtrain = confusion_matrix(ros_train_y,ytrainpred)\n",
    "sns.heatmap(cxgbtrain, annot=True,fmt=\"d\",cmap='Blues')\n",
    "\n",
    "plt.xlabel(\"Predicted label\")\n",
    "plt.ylabel(\"Actual label\")"
   ]
  },
  {
   "cell_type": "code",
   "execution_count": 71,
   "id": "621e1c84",
   "metadata": {},
   "outputs": [
    {
     "name": "stdout",
     "output_type": "stream",
     "text": [
      "Accuracy 0.9432563062718392\n"
     ]
    }
   ],
   "source": [
    "#Accuracy of the model\n",
    "Accuracy = (cxgbtrain[0][0] + cxgbtrain[1][1]) / (cxgbtrain[0][0] + cxgbtrain[1][1] + cxgbtrain[0][1] + cxgbtrain[1][0])\n",
    "print(\"Accuracy\",Accuracy)"
   ]
  },
  {
   "cell_type": "code",
   "execution_count": 72,
   "id": "9faa01e4",
   "metadata": {},
   "outputs": [
    {
     "data": {
      "image/png": "[encoded data removed]",
      "text/plain": [
       "<Figure size 432x288 with 1 Axes>"
      ]
     },
     "metadata": {
      "needs_background": "light"
     },
     "output_type": "display_data"
    }
   ],
   "source": [
    "#computing prob. of getting the target variable to compute the AUC score\n",
    "y_train_proba = xbb.predict_proba(ros_xtrain)[::,1]\n",
    "y_proba_pred = xbb.predict_proba(OneTestXi)[::,1]\n",
    "fpr, tpr, _ = metrics.roc_curve(y_test,  y_proba_pred)\n",
    "fprtrain,tprtrain,_ = metrics.roc_curve(ros_train_y,y_train_proba)\n",
    "#create ROC curve\n",
    "plt.plot(fpr,tpr,label=\"test AUC =\"+str(auc(fpr,tpr)))\n",
    "plt.plot(fprtrain,tprtrain,label=\"train AUC =\"+str(auc(fprtrain,tprtrain)))\n",
    "plt.ylabel('True Positive Rate')\n",
    "plt.xlabel('False Positive Rate')\n",
    "plt.legend()\n",
    "plt.show()"
   ]
  },
  {
   "cell_type": "markdown",
   "id": "a322ee71",
   "metadata": {},
   "source": [
    "<ul> Observations:\n",
    "    <li> Accuracy = 76.8% </li>\n",
    "    <li> AUC = 0.61 </li>\n",
    "    <li> False negative is high.</li>"
   ]
  },
  {
   "cell_type": "markdown",
   "id": "e4a7fe4b",
   "metadata": {},
   "source": [
    "<h3> Random Forest </h3>"
   ]
  },
  {
   "cell_type": "code",
   "execution_count": 73,
   "id": "13faaf9b",
   "metadata": {},
   "outputs": [
    {
     "data": {
      "text/plain": [
       "RandomizedSearchCV(cv=3, estimator=RandomForestClassifier(),\n",
       "                   param_distributions={'criterion': ['gini', 'entropy',\n",
       "                                                      'log_loss'],\n",
       "                                        'max_depth': [8, 9, 10, 11, 12, 15, 18],\n",
       "                                        'max_leaf_nodes': [3, 6, 8, 1, 2, 4, 5],\n",
       "                                        'n_estimators': [320, 330, 340, 400,\n",
       "                                                         500]},\n",
       "                   return_train_score=True, scoring='roc_auc')"
      ]
     },
     "execution_count": 73,
     "metadata": {},
     "output_type": "execute_result"
    }
   ],
   "source": [
    "from sklearn.ensemble import RandomForestClassifier\n",
    "parameters = {\n",
    "    'n_estimators'      : [320,330,340,400,500],\n",
    "    'max_depth'         : [8, 9, 10, 11, 12,15,18],\n",
    "    'criterion'         : ['gini', 'entropy', 'log_loss'],\n",
    "    'max_leaf_nodes'    : [3,6,8,1,2,4,5]\n",
    "    \n",
    "}\n",
    "model = RandomForestClassifier()\n",
    "#Randomsearch\n",
    "clfrandom = RandomizedSearchCV(model,parameters,cv=3,scoring='roc_auc',return_train_score=True)\n",
    "clfrandom.fit(ros_xtrain,ros_train_y)\n"
   ]
  },
  {
   "cell_type": "code",
   "execution_count": 74,
   "id": "2d88e4db",
   "metadata": {},
   "outputs": [
    {
     "name": "stdout",
     "output_type": "stream",
     "text": [
      "Best param {'n_estimators': 400, 'max_leaf_nodes': 5, 'max_depth': 9, 'criterion': 'gini'}\n"
     ]
    }
   ],
   "source": [
    "print(\"Best param\",clfrandom.best_params_)"
   ]
  },
  {
   "cell_type": "code",
   "execution_count": 75,
   "id": "a2f0ae40",
   "metadata": {},
   "outputs": [],
   "source": [
    "n_estimator = clfrandom.best_params_['n_estimators']\n",
    "max_depth = clfrandom.best_params_['max_depth'] \n",
    "criterion = clfrandom.best_params_['criterion'] \n",
    "max_leaf_nodes = clfrandom.best_params_['max_leaf_nodes'] "
   ]
  },
  {
   "cell_type": "code",
   "execution_count": 76,
   "id": "d49814e6",
   "metadata": {},
   "outputs": [
    {
     "name": "stdout",
     "output_type": "stream",
     "text": [
      "Test confusion matrix\n"
     ]
    },
    {
     "data": {
      "text/plain": [
       "Text(33.0, 0.5, 'Actual label')"
      ]
     },
     "execution_count": 76,
     "metadata": {},
     "output_type": "execute_result"
    },
    {
     "data": {
      "image/png": "[encoded data removed]",
      "text/plain": [
       "<Figure size 432x288 with 2 Axes>"
      ]
     },
     "metadata": {
      "needs_background": "light"
     },
     "output_type": "display_data"
    }
   ],
   "source": [
    "#training the model using best parameters\n",
    "modelrandom = RandomForestClassifier(n_estimators=n_estimator,max_depth=max_depth,criterion=criterion,max_leaf_nodes=max_leaf_nodes)\n",
    "modelrandom.fit(ros_xtrain,ros_train_y)\n",
    "ydpred = modelrandom.predict(OneTestXi)\n",
    "print(\"Test confusion matrix\")\n",
    "#plot test confusion matrix\n",
    "cnr = confusion_matrix(X_test['consumer_disputed?'],ydpred)\n",
    "sns.heatmap(cnr, annot=True,fmt=\"d\",cmap='Blues')\n",
    "\n",
    "plt.xlabel(\"Predicted label\")\n",
    "plt.ylabel(\"Actual label\")\n"
   ]
  },
  {
   "cell_type": "code",
   "execution_count": 77,
   "id": "a480881f",
   "metadata": {},
   "outputs": [
    {
     "name": "stdout",
     "output_type": "stream",
     "text": [
      "Accuracy test 0.580810607955967\n"
     ]
    }
   ],
   "source": [
    "#Accuracy of the model\n",
    "Accuracy = (cnr[0][0] + cnr[1][1]) / (cnr[0][0] + cnr[1][1] + cnr[0][1] + cnr[1][0])\n",
    "print(\"Accuracy test\",Accuracy)"
   ]
  },
  {
   "cell_type": "code",
   "execution_count": 78,
   "id": "9a3277de",
   "metadata": {},
   "outputs": [
    {
     "name": "stdout",
     "output_type": "stream",
     "text": [
      "Train confusion matrix\n"
     ]
    },
    {
     "data": {
      "text/plain": [
       "Text(33.0, 0.5, 'Actual label')"
      ]
     },
     "execution_count": 78,
     "metadata": {},
     "output_type": "execute_result"
    },
    {
     "data": {
      "image/png": "[encoded data removed]",
      "text/plain": [
       "<Figure size 432x288 with 2 Axes>"
      ]
     },
     "metadata": {
      "needs_background": "light"
     },
     "output_type": "display_data"
    }
   ],
   "source": [
    "ytrainpred = modelrandom.predict(ros_xtrain)\n",
    "print(\"Train confusion matrix\")\n",
    "#Plot confusion matrix for Train samples\n",
    "cnrandtrain = confusion_matrix(ros_train_y,ytrainpred)\n",
    "sns.heatmap(cnrandtrain, annot=True,fmt=\"d\",cmap='Blues')\n",
    "\n",
    "plt.xlabel(\"Predicted label\")\n",
    "plt.ylabel(\"Actual label\")"
   ]
  },
  {
   "cell_type": "code",
   "execution_count": 79,
   "id": "ce7f00a3",
   "metadata": {},
   "outputs": [
    {
     "name": "stdout",
     "output_type": "stream",
     "text": [
      "Accuracy train 0.7447522126150943\n"
     ]
    }
   ],
   "source": [
    "#Accuracy of the model\n",
    "Accuracy = (cnrandtrain[0][0] + cnrandtrain[1][1]) / (cnrandtrain[0][0] + cnrandtrain[1][1] + cnrandtrain[0][1] + cnrandtrain[1][0])\n",
    "print(\"Accuracy train\",Accuracy)"
   ]
  },
  {
   "cell_type": "code",
   "execution_count": 81,
   "id": "2eaabc18",
   "metadata": {},
   "outputs": [
    {
     "data": {
      "image/png": "[encoded data removed]",
      "text/plain": [
       "<Figure size 432x288 with 1 Axes>"
      ]
     },
     "metadata": {
      "needs_background": "light"
     },
     "output_type": "display_data"
    }
   ],
   "source": [
    "from sklearn.metrics import roc_curve, auc\n",
    "#computing prob. of getting the target variable to compute the AUC score\n",
    "y_train_proba = modelrandom.predict_proba(ros_xtrain)[::,1]\n",
    "y_proba_pred = modelrandom.predict_proba(OneTestXi)[::,1]\n",
    "fpr, tpr, _ = metrics.roc_curve(y_test,  y_proba_pred)\n",
    "fprtrain,tprtrain,_ = metrics.roc_curve(ros_train_y,y_train_proba)\n",
    "#create ROC curve\n",
    "plt.plot(fpr,tpr,label=\"test AUC =\"+str(auc(fpr,tpr)))\n",
    "plt.plot(fprtrain,tprtrain,label=\"train AUC =\"+str(auc(fprtrain,tprtrain)))\n",
    "plt.ylabel('True Positive Rate')\n",
    "plt.xlabel('False Positive Rate')\n",
    "plt.legend()\n",
    "plt.show()"
   ]
  },
  {
   "cell_type": "markdown",
   "id": "0cc09da9",
   "metadata": {},
   "source": [
    "<ul> Observations:\n",
    "    <li> Accuracy = 58% </li>\n",
    "    <li> AUC = 0.621 </li>\n",
    "    <li> False positive is high.</li>"
   ]
  },
  {
   "cell_type": "markdown",
   "id": "06d88aea",
   "metadata": {},
   "source": [
    "<h3> Stacking </h3>"
   ]
  },
  {
   "cell_type": "code",
   "execution_count": 82,
   "id": "8fd7c2ef",
   "metadata": {},
   "outputs": [],
   "source": [
    "# define the models for level 0\n",
    "level0 = list()\n",
    "level0.append(('lr', LogisticRegression(C=c,penalty=penalty,solver=solver,max_iter=max_iter)))\n",
    "level0.append(('knn', KNeighborsClassifier()))\n",
    "level0.append(('cart', DecisionTreeClassifier(min_samples_split = min_sample,min_samples_leaf=min_sample,max_depth=max_depth,criterion=criter)))\n",
    "level0.append(('bayes', GaussianNB()))\n",
    "# model for the last stage\n",
    "level1 = LogisticRegression()\n",
    "modelstack = StackingClassifier(estimators=level0, final_estimator=level1, cv=5)\n",
    "modelstack.fit(ros_xtrain,ros_train_y)\n",
    "yhat = modelstack.predict(OneTestXi)"
   ]
  },
  {
   "cell_type": "code",
   "execution_count": 83,
   "id": "ad5d82ad",
   "metadata": {},
   "outputs": [
    {
     "name": "stdout",
     "output_type": "stream",
     "text": [
      "Test confusion matrix\n"
     ]
    },
    {
     "data": {
      "text/plain": [
       "Text(33.0, 0.5, 'Actual label')"
      ]
     },
     "execution_count": 83,
     "metadata": {},
     "output_type": "execute_result"
    },
    {
     "data": {
      "image/png": "[encoded data removed]",
      "text/plain": [
       "<Figure size 432x288 with 2 Axes>"
      ]
     },
     "metadata": {
      "needs_background": "light"
     },
     "output_type": "display_data"
    }
   ],
   "source": [
    "print(\"Test confusion matrix\")\n",
    "#plot confusion matrix for test samples\n",
    "cns = confusion_matrix(X_test['consumer_disputed?'],yhat)\n",
    "sns.heatmap(cns, annot=True,fmt=\"d\",cmap='Blues')\n",
    "\n",
    "plt.xlabel(\"Predicted label\")\n",
    "plt.ylabel(\"Actual label\")"
   ]
  },
  {
   "cell_type": "code",
   "execution_count": 84,
   "id": "74bad89b",
   "metadata": {},
   "outputs": [
    {
     "name": "stdout",
     "output_type": "stream",
     "text": [
      "Accuracy stacking test 0.6670002501876408\n"
     ]
    }
   ],
   "source": [
    "#Test Accuracy of the model\n",
    "Accuracy = (cns[0][0] + cns[1][1]) / (cns[0][0] + cns[1][1] + cns[0][1] + cns[1][0])\n",
    "print(\"Accuracy stacking test\",Accuracy)"
   ]
  },
  {
   "cell_type": "code",
   "execution_count": 85,
   "id": "eb9252fd",
   "metadata": {},
   "outputs": [
    {
     "name": "stdout",
     "output_type": "stream",
     "text": [
      "Train confusion matrix\n"
     ]
    },
    {
     "data": {
      "text/plain": [
       "Text(33.0, 0.5, 'Actual label')"
      ]
     },
     "execution_count": 85,
     "metadata": {},
     "output_type": "execute_result"
    },
    {
     "data": {
      "image/png": "[encoded data removed]",
      "text/plain": [
       "<Figure size 432x288 with 2 Axes>"
      ]
     },
     "metadata": {
      "needs_background": "light"
     },
     "output_type": "display_data"
    }
   ],
   "source": [
    "ytrainpred = modelstack.predict(ros_xtrain)\n",
    "print(\"Train confusion matrix\")\n",
    "#Plot confusion matrix for Train samples\n",
    "stacktrain = confusion_matrix(ros_train_y,ytrainpred)\n",
    "sns.heatmap(stacktrain, annot=True,fmt=\"d\",cmap='Blues')\n",
    "\n",
    "plt.xlabel(\"Predicted label\")\n",
    "plt.ylabel(\"Actual label\")"
   ]
  },
  {
   "cell_type": "code",
   "execution_count": 87,
   "id": "957b6e89",
   "metadata": {},
   "outputs": [
    {
     "name": "stdout",
     "output_type": "stream",
     "text": [
      "Accuracy stack train 0.8778789501874665\n"
     ]
    }
   ],
   "source": [
    "#Accuracy of the model\n",
    "Accuracy = (stacktrain[0][0] + stacktrain[1][1]) / (stacktrain[0][0] + stacktrain[1][1] + stacktrain[0][1] + stacktrain[1][0])\n",
    "print(\"Accuracy stack train\",Accuracy)"
   ]
  },
  {
   "cell_type": "code",
   "execution_count": 86,
   "id": "8cd7c879",
   "metadata": {},
   "outputs": [
    {
     "data": {
      "image/png": "[encoded data removed]",
      "text/plain": [
       "<Figure size 432x288 with 1 Axes>"
      ]
     },
     "metadata": {
      "needs_background": "light"
     },
     "output_type": "display_data"
    }
   ],
   "source": [
    "from sklearn.metrics import roc_curve, auc\n",
    "#computing prob. of getting the target variable to compute the AUC score\n",
    "y_train_proba = modelstack.predict_proba(ros_xtrain)[::,1]\n",
    "y_proba_pred = modelstack.predict_proba(OneTestXi)[::,1]\n",
    "fpr, tpr, _ = metrics.roc_curve(y_test,  y_proba_pred)\n",
    "fprtrain,tprtrain,_ = metrics.roc_curve(ros_train_y,y_train_proba)\n",
    "#create ROC curve\n",
    "plt.plot(fpr,tpr,label=\"test AUC =\"+str(auc(fpr,tpr)))\n",
    "plt.plot(fprtrain,tprtrain,label=\"train AUC =\"+str(auc(fprtrain,tprtrain)))\n",
    "plt.ylabel('True Positive Rate')\n",
    "plt.xlabel('False Positive Rate')\n",
    "plt.legend()\n",
    "plt.show()"
   ]
  },
  {
   "cell_type": "markdown",
   "id": "701c2908",
   "metadata": {},
   "source": [
    "\n",
    "   "
   ]
  },
  {
   "cell_type": "markdown",
   "id": "9abd70d3",
   "metadata": {},
   "source": [
    "<ul> Observations:\n",
    "    <li> Accuracy = 71% </li>\n",
    "    <li> AUC = 0.605 </li>\n",
    "    <li> False positive is high.</li>"
   ]
  },
  {
   "cell_type": "code",
   "execution_count": 90,
   "id": "93f95a7d",
   "metadata": {},
   "outputs": [
    {
     "name": "stdout",
     "output_type": "stream",
     "text": [
      "+---------------------+-----------+----------+-----------------+---------------+\n",
      "|        Model        | Train AUC | Test AUC |  Train Accuracy | Test Accuracy |\n",
      "+---------------------+-----------+----------+-----------------+---------------+\n",
      "| Logistic Regression |    0.83   |  0.622   |       0.74      |      0.63     |\n",
      "|    Decision Tree    |    0.90   |  0.584   |       0.76      |      0.60     |\n",
      "|       Xgboost       |    0.96   |  0.610   |       0.90      |      0.76     |\n",
      "|     RandomForest    |    0.92   |  0.619   |       0.75      |      0.5      |\n",
      "|       Stacking      |    0.95   |  0.599   |       0.87      |      0.66     |\n",
      "+---------------------+-----------+----------+-----------------+---------------+\n"
     ]
    }
   ],
   "source": [
    "from prettytable import PrettyTable\n",
    "  \n",
    "\n",
    "# adding column headers\n",
    "newTable = PrettyTable([\"Model\", \"Train AUC\", \"Test AUC\",\" Train Accuracy\",\"Test Accuracy\"])\n",
    "  \n",
    "# Add rows\n",
    "newTable.add_row([\"Logistic Regression\",\"0.83\",\"0.622\", \"0.74\",\"0.63\"])\n",
    "newTable.add_row([\"Decision Tree\",\"0.90\" ,\"0.584\", \"0.76\",\"0.60\"])\n",
    "newTable.add_row([\"Xgboost\", \"0.96\",\"0.610\", \"0.90\",\"0.76\"])\n",
    "newTable.add_row([\"RandomForest\",\"0.92\",\"0.619\", \"0.75\",\"0.5\"])\n",
    "newTable.add_row([\"Stacking\", \"0.95\",\"0.599\", \"0.87\",\"0.66\"])\n",
    "\n",
    "  \n",
    "print(newTable)"
   ]
  },
  {
   "cell_type": "markdown",
   "id": "b770c99f",
   "metadata": {},
   "source": [
    "<h3>Summary</h3>\n",
    "<p> Due to the presence of large no. of False Positives ,AUC is low for all the models.Xgboost and logistic regression model is good choice for this case study.</p> "
   ]
  },
  {
   "cell_type": "markdown",
   "id": "970fc5c6",
   "metadata": {},
   "source": [
    "<h3> PCA for Feature importance </h3>"
   ]
  },
  {
   "cell_type": "code",
   "execution_count": 91,
   "id": "843fa20f",
   "metadata": {},
   "outputs": [
    {
     "name": "stdout",
     "output_type": "stream",
     "text": [
      "(156828, 106)\n"
     ]
    }
   ],
   "source": [
    "from sklearn.decomposition import PCA\n",
    "from sklearn.preprocessing import StandardScaler\n",
    "df1=pd.DataFrame(ros_xtrain, ros_train_y)\n",
    " \n",
    "# Scale data before applying PCA\n",
    "scaling=StandardScaler()\n",
    " \n",
    "# Use fit and transform method\n",
    "scaling.fit(df1)\n",
    "Scaled_data=scaling.transform(df1)\n",
    " \n",
    "# Set the n_components=2\n",
    "principal=PCA(n_components=106)\n",
    "principal.fit(Scaled_data)\n",
    "x=principal.transform(Scaled_data)\n",
    " \n",
    "# Check the dimensions of data after PCA\n",
    "print(x.shape)"
   ]
  },
  {
   "cell_type": "markdown",
   "id": "33136499",
   "metadata": {},
   "source": [
    "<p>The importance of each eigenvector is depicted by its corresponding eigenvalue.</p>"
   ]
  },
  {
   "cell_type": "code",
   "execution_count": 93,
   "id": "d266ab18",
   "metadata": {},
   "outputs": [
    {
     "name": "stdout",
     "output_type": "stream",
     "text": [
      "[0.42622637 0.08622124 0.42023965 0.02582628 0.08575863 0.11766975\n",
      " 0.01990562 0.09525341 0.07447373 0.0348263  0.40338797 0.03986697\n",
      " 0.02130586 0.01919561 0.05804464 0.06393613 0.16169334 0.03433261\n",
      " 0.24403545 0.08239426 0.04479507 0.07170844 0.03846675 0.02324787\n",
      " 0.13196736 0.02600905 0.18817043 0.20287628 0.02608276 0.03574482\n",
      " 0.08364393 0.02130586 0.03966739 0.01074551 0.01151562 0.01654317\n",
      " 0.01919561 0.05804464 0.03433261 0.01983167 0.01615206 0.00659742\n",
      " 0.02380442 0.12006325 0.0682539  0.03244452 0.11794705 0.01808541\n",
      " 0.04760424 0.12110065 0.04554327 0.06611537 0.0136315  0.01132654\n",
      " 0.00838746 0.07595955 0.06732637 0.02324787 0.09917104 0.13196736\n",
      " 0.03516477 0.04275243 0.10504529 0.02600905 0.20287628 0.03916266\n",
      " 0.01400254 0.02608276 0.0080872  0.01525426 0.02695672 0.07832134\n",
      " 0.01555942 0.01941053 0.02785437 0.1378868  0.01751478 0.00557798\n",
      " 0.00557798 0.0209459  0.0209459  0.00615585 0.00615585 0.00430051\n",
      " 0.00854882 0.02043712 0.0215921  0.00602913 0.02196333 0.04876627\n",
      " 0.04876627 0.04375637 0.02578176 0.05334007 0.04411214 0.0283088\n",
      " 0.10026324 0.00331224 0.02219062 0.         0.         0.\n",
      " 0.         0.         0.         0.        ]\n"
     ]
    }
   ],
   "source": [
    "print(abs(principal.components_[0]))"
   ]
  },
  {
   "cell_type": "markdown",
   "id": "7bf7d622",
   "metadata": {},
   "source": [
    "<p><b>complaint_id,date_sent_to_company_year,date_sent_to_company_month,\n",
    "    date_sent_to_company_day,date_received_year,date_received_month,ddate_received_day </b>\n",
    "    not contribute at all .So we can drop them.</p>"
   ]
  },
  {
   "cell_type": "markdown",
   "id": "a65d9980",
   "metadata": {},
   "source": [
    "<h3>Conclusion </h3>\n",
    "<ol> <b> For Principal Component 1 important features in desc. order are</b>\n",
    "<li>sub-issue </li>\n",
    "<li>issue</li>\n",
    "<li> sub-product </li>\n",
    "<li> product</li>\n",
    "<li> company </li>\n",
    "<li> zipcode </li>\n",
    "<li> state </li>\n",
    "<li> company response </li>\n",
    "<li> timely response </li>\n",
    "<li> submitted_via </li>\n",
    "\n"
   ]
  },
  {
   "cell_type": "code",
   "execution_count": 94,
   "id": "4681d814",
   "metadata": {},
   "outputs": [
    {
     "data": {
      "image/png": "[encoded data removed]",
      "text/plain": [
       "<Figure size 432x288 with 1 Axes>"
      ]
     },
     "metadata": {
      "needs_background": "light"
     },
     "output_type": "display_data"
    }
   ],
   "source": [
    "plt.plot(np.cumsum(principal.explained_variance_ratio_))\n",
    "plt.xlabel('number of components')\n",
    "plt.ylabel('cumulative explained variance');"
   ]
  },
  {
   "cell_type": "markdown",
   "id": "612318b6",
   "metadata": {},
   "source": [
    "<p>From the above plot we could infer that after 14 features variance is not changing much.So we can drop all other features</p>"
   ]
  },
  {
   "cell_type": "markdown",
   "id": "fbb22712",
   "metadata": {},
   "source": []
  },
  {
   "cell_type": "code",
   "execution_count": null,
   "id": "e4f5399b",
   "metadata": {},
   "outputs": [],
   "source": [
    "\n"
   ]
  },
  {
   "cell_type": "code",
   "execution_count": null,
   "id": "2db1441b",
   "metadata": {},
   "outputs": [],
   "source": [
    "\n"
   ]
  },
  {
   "cell_type": "code",
   "execution_count": null,
   "id": "e84b33b1",
   "metadata": {},
   "outputs": [],
   "source": []
  },
  {
   "cell_type": "code",
   "execution_count": null,
   "id": "e0da0108",
   "metadata": {},
   "outputs": [],
   "source": []
  },
  {
   "cell_type": "code",
   "execution_count": null,
   "id": "996ac7a9",
   "metadata": {},
   "outputs": [],
   "source": []
  },
  {
   "cell_type": "code",
   "execution_count": null,
   "id": "cb2cfa9e",
   "metadata": {},
   "outputs": [],
   "source": []
  },
  {
   "cell_type": "code",
   "execution_count": null,
   "id": "35dd3b5d",
   "metadata": {},
   "outputs": [],
   "source": []
  },
  {
   "cell_type": "code",
   "execution_count": null,
   "id": "a0206416",
   "metadata": {},
   "outputs": [],
   "source": []
  },
  {
   "cell_type": "code",
   "execution_count": null,
   "id": "96733860",
   "metadata": {},
   "outputs": [],
   "source": []
  },
  {
   "cell_type": "markdown",
   "id": "6e8d2132",
   "metadata": {},
   "source": []
  },
  {
   "cell_type": "markdown",
   "id": "266ef41f",
   "metadata": {},
   "source": []
  },
  {
   "cell_type": "code",
   "execution_count": null,
   "id": "4b731d7b",
   "metadata": {},
   "outputs": [],
   "source": []
  },
  {
   "cell_type": "code",
   "execution_count": null,
   "id": "05ee00a1",
   "metadata": {},
   "outputs": [],
   "source": []
  },
  {
   "cell_type": "code",
   "execution_count": null,
   "id": "6d21cebf",
   "metadata": {},
   "outputs": [],
   "source": []
  },
  {
   "cell_type": "code",
   "execution_count": null,
   "id": "549288c5",
   "metadata": {},
   "outputs": [],
   "source": []
  },
  {
   "cell_type": "code",
   "execution_count": null,
   "id": "29e46ff0",
   "metadata": {},
   "outputs": [],
   "source": []
  },
  {
   "cell_type": "code",
   "execution_count": null,
   "id": "528826c7",
   "metadata": {},
   "outputs": [],
   "source": []
  },
  {
   "cell_type": "markdown",
   "id": "a70613cb",
   "metadata": {},
   "source": []
  },
  {
   "cell_type": "markdown",
   "id": "a26eadb7",
   "metadata": {},
   "source": []
  },
  {
   "cell_type": "code",
   "execution_count": null,
   "id": "8b93a622",
   "metadata": {},
   "outputs": [],
   "source": []
  },
  {
   "cell_type": "markdown",
   "id": "bca12bda",
   "metadata": {},
   "source": []
  },
  {
   "cell_type": "markdown",
   "id": "0d12c937",
   "metadata": {},
   "source": []
  },
  {
   "cell_type": "code",
   "execution_count": null,
   "id": "d15cec10",
   "metadata": {},
   "outputs": [],
   "source": []
  },
  {
   "cell_type": "markdown",
   "id": "f092326f",
   "metadata": {},
   "source": []
  },
  {
   "cell_type": "code",
   "execution_count": null,
   "id": "594d067e",
   "metadata": {},
   "outputs": [],
   "source": []
  },
  {
   "cell_type": "markdown",
   "id": "d75d3f24",
   "metadata": {},
   "source": [
    "\n"
   ]
  },
  {
   "cell_type": "markdown",
   "id": "5d95d017",
   "metadata": {},
   "source": []
  },
  {
   "cell_type": "code",
   "execution_count": null,
   "id": "f728de20",
   "metadata": {},
   "outputs": [],
   "source": []
  },
  {
   "cell_type": "markdown",
   "id": "a9f33693",
   "metadata": {},
   "source": []
  },
  {
   "cell_type": "markdown",
   "id": "03b141d2",
   "metadata": {},
   "source": []
  },
  {
   "cell_type": "markdown",
   "id": "95f5c71e",
   "metadata": {},
   "source": []
  },
  {
   "cell_type": "code",
   "execution_count": null,
   "id": "2c61248c",
   "metadata": {},
   "outputs": [],
   "source": []
  },
  {
   "cell_type": "code",
   "execution_count": null,
   "id": "a7e92f8c",
   "metadata": {},
   "outputs": [],
   "source": []
  },
  {
   "cell_type": "code",
   "execution_count": null,
   "id": "2038fdda",
   "metadata": {},
   "outputs": [],
   "source": []
  },
  {
   "cell_type": "code",
   "execution_count": null,
   "id": "32da4ac3",
   "metadata": {},
   "outputs": [],
   "source": []
  },
  {
   "cell_type": "code",
   "execution_count": null,
   "id": "c68ec995",
   "metadata": {},
   "outputs": [],
   "source": []
  },
  {
   "cell_type": "code",
   "execution_count": null,
   "id": "9e45a177",
   "metadata": {},
   "outputs": [],
   "source": []
  },
  {
   "cell_type": "code",
   "execution_count": null,
   "id": "3d75a91d",
   "metadata": {},
   "outputs": [],
   "source": []
  },
  {
   "cell_type": "code",
   "execution_count": null,
   "id": "20a6486b",
   "metadata": {},
   "outputs": [],
   "source": []
  },
  {
   "cell_type": "code",
   "execution_count": null,
   "id": "40dd2c13",
   "metadata": {
    "scrolled": true
   },
   "outputs": [],
   "source": []
  },
  {
   "cell_type": "code",
   "execution_count": null,
   "id": "026c16fc",
   "metadata": {},
   "outputs": [],
   "source": []
  },
  {
   "cell_type": "code",
   "execution_count": null,
   "id": "ab1fb7b3",
   "metadata": {},
   "outputs": [],
   "source": []
  },
  {
   "cell_type": "code",
   "execution_count": null,
   "id": "44cfee96",
   "metadata": {},
   "outputs": [],
   "source": []
  }
 ],
 "metadata": {
  "kernelspec": {
   "display_name": "Python 3 (ipykernel)",
   "language": "python",
   "name": "python3"
  },
  "language_info": {
   "codemirror_mode": {
    "name": "ipython",
    "version": 3
   },
   "file_extension": ".py",
   "mimetype": "text/x-python",
   "name": "python",
   "nbconvert_exporter": "python",
   "pygments_lexer": "ipython3",
   "version": "3.9.12"
  }
 },
 "nbformat": 4,
 "nbformat_minor": 5
}
